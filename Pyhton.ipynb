{
 "cells": [
  {
   "cell_type": "markdown",
   "id": "802ebb9d-5c5d-4be0-b06f-72c37f951d1b",
   "metadata": {},
   "source": [
    "## \n",
    "Prime Numbers\n",
    "\n",
    "Write a Python program that checks whether a given number is prime or not. A prime number is a natural number greater than 1 that has no positive divisors other than 1 and itself.\n"
   ]
  },
  {
   "cell_type": "code",
   "execution_count": 14,
   "id": "4f1d9256-2ff3-439c-8da0-3b78f6ffce2a",
   "metadata": {},
   "outputs": [
    {
     "name": "stdin",
     "output_type": "stream",
     "text": [
      "Enter a number:  5\n"
     ]
    },
    {
     "name": "stdout",
     "output_type": "stream",
     "text": [
      "5 is a prime number\n"
     ]
    }
   ],
   "source": [
    "num = int(input(\"Enter a number: \"))\n",
    "if num > 1:\n",
    "    for i in range(2, num):\n",
    "        if (num % i) == 0:\n",
    "            print(num, \"is not a prime number\")\n",
    "            break\n",
    "    else:\n",
    "        print(num, \"is a prime number\")\n",
    "else:\n",
    "    print(num, \"is not a prime number\")"
   ]
  },
  {
   "cell_type": "markdown",
   "id": "dc53b5d6-3947-481f-8400-e2ddc8935376",
   "metadata": {},
   "source": [
    "## \n",
    "Product of Random Numbers\n",
    "\n",
    "Develop a Python program that generates two random numbers and asks the user to enter the product of these numbers. The program should then check if the user's answer is correct and display an appropriate message.\n"
   ]
  },
  {
   "cell_type": "code",
   "execution_count": 17,
   "id": "2133fc44-984b-45e0-9a93-c8b9d83bb8ce",
   "metadata": {},
   "outputs": [
    {
     "name": "stdout",
     "output_type": "stream",
     "text": [
      "71 34\n"
     ]
    },
    {
     "name": "stdin",
     "output_type": "stream",
     "text": [
      "Enter your answer: 2414\n"
     ]
    },
    {
     "name": "stdout",
     "output_type": "stream",
     "text": [
      "Your answer is correct!\n"
     ]
    }
   ],
   "source": [
    "import numpy as np\n",
    "\n",
    "num1 = np.random.randint(1,100)\n",
    "num2 = np.random.randint(1,100)\n",
    "print(num1,num2)\n",
    "ans = num1*num2\n",
    "userans = int(input(\"Enter your answer:\"))\n",
    "if ans == userans:\n",
    "    print(\"Your answer is correct!\")\n",
    "else:\n",
    "    print(\"Wrong Answer!\")"
   ]
  },
  {
   "cell_type": "markdown",
   "id": "965044bc-fbdf-491c-8ebf-ea864720326b",
   "metadata": {},
   "source": [
    "### \n",
    "Squares of Even/Odd Numbers\n",
    "\n",
    "Create a Python script that prints the squares of all even or odd numbers within the range of 100 to 200. Choose either even or odd numbers and document your choice in the code.\n"
   ]
  },
  {
   "cell_type": "code",
   "execution_count": 19,
   "id": "d173cb87-c4aa-4380-a0cb-47abf993b8d5",
   "metadata": {},
   "outputs": [
    {
     "name": "stdout",
     "output_type": "stream",
     "text": [
      "Squares of Even Numbers:\n",
      "[10000, 10404, 10816, 11236, 11664, 12100, 12544, 12996, 13456, 13924, 14400, 14884, 15376, 15876, 16384, 16900, 17424, 17956, 18496, 19044, 19600, 20164, 20736, 21316, 21904, 22500, 23104, 23716, 24336, 24964, 25600, 26244, 26896, 27556, 28224, 28900, 29584, 30276, 30976, 31684, 32400, 33124, 33856, 34596, 35344, 36100, 36864, 37636, 38416, 39204, 40000]\n",
      "\n",
      "Squares of Odd Numbers:\n",
      "[10201, 10609, 11025, 11449, 11881, 12321, 12769, 13225, 13689, 14161, 14641, 15129, 15625, 16129, 16641, 17161, 17689, 18225, 18769, 19321, 19881, 20449, 21025, 21609, 22201, 22801, 23409, 24025, 24649, 25281, 25921, 26569, 27225, 27889, 28561, 29241, 29929, 30625, 31329, 32041, 32761, 33489, 34225, 34969, 35721, 36481, 37249, 38025, 38809, 39601]\n"
     ]
    }
   ],
   "source": [
    "start = 100\n",
    "end = 200\n",
    "even_squares = []\n",
    "odd_squares = []\n",
    "for num in range(start, end + 1):\n",
    "    square = num ** 2\n",
    "    if num % 2 == 0: \n",
    "        even_squares.append(square)\n",
    "    else:\n",
    "        odd_squares.append(square)\n",
    "print(\"Squares of Even Numbers:\")\n",
    "print(even_squares)\n",
    "print(\"\\nSquares of Odd Numbers:\")\n",
    "print(odd_squares)"
   ]
  },
  {
   "cell_type": "markdown",
   "id": "23416800-deff-41c9-9719-bedb41942e70",
   "metadata": {},
   "source": [
    "### write a program to count the number of words in a given text."
   ]
  },
  {
   "cell_type": "code",
   "execution_count": 28,
   "id": "9d3514b3-cc6f-4203-9f39-3ffe4e426140",
   "metadata": {},
   "outputs": [
    {
     "name": "stdin",
     "output_type": "stream",
     "text": [
      "Enter a sentence:  This is a sample text. This text will be used to demonstrate the word counter\n"
     ]
    },
    {
     "name": "stdout",
     "output_type": "stream",
     "text": [
      "Word Counts:\n",
      "This: 2\n",
      "is: 1\n",
      "a: 1\n",
      "sample: 1\n",
      "text.: 1\n",
      "text: 1\n",
      "will: 1\n",
      "be: 1\n",
      "used: 1\n",
      "to: 1\n",
      "demonstrate: 1\n",
      "the: 1\n",
      "word: 1\n",
      "counter: 1\n"
     ]
    }
   ],
   "source": [
    "sentence = input(\"Enter a sentence: \")\n",
    "words = sentence.split()\n",
    "word_counts = {}\n",
    "for word in words:\n",
    "    if word in word_counts:\n",
    "        word_counts[word] += 1\n",
    "    else:\n",
    "        word_counts[word] = 1\n",
    "print(\"Word Counts:\")\n",
    "for word, count in word_counts.items():\n",
    "    print(f\"{word}: {count}\")"
   ]
  },
  {
   "cell_type": "code",
   "execution_count": 27,
   "id": "4e006b8a-40e5-447a-a669-ae403cf8af60",
   "metadata": {},
   "outputs": [
    {
     "name": "stdin",
     "output_type": "stream",
     "text": [
      "Enter a string:  nitin\n"
     ]
    },
    {
     "name": "stdout",
     "output_type": "stream",
     "text": [
      "The string is a palindrome.\n"
     ]
    }
   ],
   "source": [
    "def is_palindrome(s):\n",
    "    s = ''.join(char.lower() for char in s if char.isalnum())\n",
    "    return s == s[::-1]\n",
    "    \n",
    "string = input(\"Enter a string: \")\n",
    "if is_palindrome(string):\n",
    "    print(\"The string is a palindrome.\")\n",
    "else:\n",
    "    print(\"The string is not a palindrome.\")"
   ]
  }
 ],
 "metadata": {
  "kernelspec": {
   "display_name": "Python 3 (ipykernel)",
   "language": "python",
   "name": "python3"
  },
  "language_info": {
   "codemirror_mode": {
    "name": "ipython",
    "version": 3
   },
   "file_extension": ".py",
   "mimetype": "text/x-python",
   "name": "python",
   "nbconvert_exporter": "python",
   "pygments_lexer": "ipython3",
   "version": "3.11.7"
  }
 },
 "nbformat": 4,
 "nbformat_minor": 5
}
